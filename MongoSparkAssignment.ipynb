{
 "cells": [
  {
   "cell_type": "markdown",
   "metadata": {},
   "source": [
    "### Mongo Spark Assignment"
   ]
  },
  {
   "cell_type": "markdown",
   "metadata": {},
   "source": [
    "#### Accessing API\n",
    "- Connecting to Twitter API\n",
    "- Streaming Tweets for a specific account (could me more)\n",
    "- Turning steamed tweets output to DataFrame"
   ]
  },
  {
   "cell_type": "code",
   "execution_count": 1,
   "metadata": {},
   "outputs": [],
   "source": [
    "# Import Dependencies\n",
    "import tweepy\n",
    "import pandas as pd\n",
    "import json\n",
    "\n",
    "import pymongo\n",
    "from pymongo import MongoClient"
   ]
  },
  {
   "cell_type": "code",
   "execution_count": 2,
   "metadata": {},
   "outputs": [],
   "source": [
    "# Authentiation keys and tokens\n",
    "\n",
    "# Twitter API Keys\n",
    "ckey='ckey'\n",
    "csecret='csecret'\n",
    "atoken='atoken'\n",
    "asecret='asecret'\n",
    "\n",
    "# Defining tweepy authentication\n",
    "auth = tweepy.OAuthHandler(ckey, csecret)\n",
    "auth.set_access_token(atoken, asecret)\n",
    "api = tweepy.API(auth, wait_on_rate_limit=True, wait_on_rate_limit_notify=True)"
   ]
  },
  {
   "cell_type": "code",
   "execution_count": 3,
   "metadata": {},
   "outputs": [],
   "source": [
    "# Streaming Timeline tweets for a specific account\n",
    "stream = api.user_timeline('barstoolbigcat')"
   ]
  },
  {
   "cell_type": "markdown",
   "metadata": {},
   "source": [
    "Continuous Streaming\n",
    "http://docs.tweepy.org/en/latest/streaming_how_to.html"
   ]
  },
  {
   "cell_type": "code",
   "execution_count": 51,
   "metadata": {},
   "outputs": [],
   "source": [
    "# # write to json file\n",
    "# with open('testdata.json', 'w', encoding='utf-8') as f:\n",
    "#     json.dump(list_of_dicts, f, ensure_ascii=False, indent=4)"
   ]
  },
  {
   "cell_type": "code",
   "execution_count": 4,
   "metadata": {},
   "outputs": [],
   "source": [
    "# Creating a list of dicts for a specific twitter accounts timeline\n",
    "list_of_dicts = []\n",
    "for each_json_tweet in stream:\n",
    "    list_of_dicts.append(each_json_tweet._json)"
   ]
  },
  {
   "cell_type": "code",
   "execution_count": 5,
   "metadata": {},
   "outputs": [],
   "source": [
    "with open('tweet_json_tweets.txt', 'w') as file:\n",
    "        file.write(json.dumps(list_of_dicts, indent=4))"
   ]
  },
  {
   "cell_type": "code",
   "execution_count": 6,
   "metadata": {},
   "outputs": [],
   "source": [
    "# Turning streamed tweets into DataFrame\n",
    "my_demo_list = []\n",
    "with open('tweet_json_tweets.txt', encoding='utf-8') as json_file:  \n",
    "    all_data = json.load(json_file)\n",
    "    for each_dictionary in all_data:\n",
    "        tweet_id = each_dictionary['id']\n",
    "        text = each_dictionary['text']\n",
    "        favorite_count = each_dictionary['favorite_count']\n",
    "        retweet_count = each_dictionary['retweet_count']\n",
    "        created_at = each_dictionary['created_at']\n",
    "        my_demo_list.append({'tweet_id': str(tweet_id),\n",
    "                             'text': str(text),\n",
    "                             'favorite_count': int(favorite_count),\n",
    "                             'retweet_count': int(retweet_count),\n",
    "                             'created_at': created_at,\n",
    "                            })\n",
    "        #print(my_demo_list)\n",
    "        tweet_json = pd.DataFrame(my_demo_list, columns = \n",
    "                                  ['tweet_id', 'text', \n",
    "                                   'favorite_count', 'retweet_count', \n",
    "                                   'created_at'])"
   ]
  },
  {
   "cell_type": "code",
   "execution_count": 7,
   "metadata": {},
   "outputs": [
    {
     "data": {
      "text/html": [
       "<div>\n",
       "<style scoped>\n",
       "    .dataframe tbody tr th:only-of-type {\n",
       "        vertical-align: middle;\n",
       "    }\n",
       "\n",
       "    .dataframe tbody tr th {\n",
       "        vertical-align: top;\n",
       "    }\n",
       "\n",
       "    .dataframe thead th {\n",
       "        text-align: right;\n",
       "    }\n",
       "</style>\n",
       "<table border=\"1\" class=\"dataframe\">\n",
       "  <thead>\n",
       "    <tr style=\"text-align: right;\">\n",
       "      <th></th>\n",
       "      <th>tweet_id</th>\n",
       "      <th>text</th>\n",
       "      <th>favorite_count</th>\n",
       "      <th>retweet_count</th>\n",
       "      <th>created_at</th>\n",
       "    </tr>\n",
       "  </thead>\n",
       "  <tbody>\n",
       "    <tr>\n",
       "      <th>0</th>\n",
       "      <td>1249118008242515976</td>\n",
       "      <td>FSU @ Syracuse \\n\\n#DugsNation \\n\\nLive Now —&amp;...</td>\n",
       "      <td>8</td>\n",
       "      <td>0</td>\n",
       "      <td>Sat Apr 11 23:31:55 +0000 2020</td>\n",
       "    </tr>\n",
       "    <tr>\n",
       "      <th>1</th>\n",
       "      <td>1249114471441879042</td>\n",
       "      <td>Is twitter broken?</td>\n",
       "      <td>813</td>\n",
       "      <td>21</td>\n",
       "      <td>Sat Apr 11 23:17:52 +0000 2020</td>\n",
       "    </tr>\n",
       "    <tr>\n",
       "      <th>2</th>\n",
       "      <td>1249112744332128258</td>\n",
       "      <td>RT @3msmith: @BarstoolBigCat Kenny by a nose. ...</td>\n",
       "      <td>0</td>\n",
       "      <td>1</td>\n",
       "      <td>Sat Apr 11 23:11:00 +0000 2020</td>\n",
       "    </tr>\n",
       "    <tr>\n",
       "      <th>3</th>\n",
       "      <td>1249111841898258435</td>\n",
       "      <td>Disaster tonight. Some nights the track owns y...</td>\n",
       "      <td>145</td>\n",
       "      <td>1</td>\n",
       "      <td>Sat Apr 11 23:07:25 +0000 2020</td>\n",
       "    </tr>\n",
       "    <tr>\n",
       "      <th>4</th>\n",
       "      <td>1249110877409652736</td>\n",
       "      <td>Here’s the periscope. Cat Cave Derby. I don’t ...</td>\n",
       "      <td>190</td>\n",
       "      <td>15</td>\n",
       "      <td>Sat Apr 11 23:03:35 +0000 2020</td>\n",
       "    </tr>\n",
       "    <tr>\n",
       "      <th>5</th>\n",
       "      <td>1249110503936290819</td>\n",
       "      <td>IM LIVE ON PERISCOPE SOMEONE SEND ME THE LINK ...</td>\n",
       "      <td>166</td>\n",
       "      <td>0</td>\n",
       "      <td>Sat Apr 11 23:02:06 +0000 2020</td>\n",
       "    </tr>\n",
       "    <tr>\n",
       "      <th>6</th>\n",
       "      <td>1249093174473232386</td>\n",
       "      <td>Lanes for tonight’s #CatCaveDerby \\n\\n1. Kenny...</td>\n",
       "      <td>941</td>\n",
       "      <td>23</td>\n",
       "      <td>Sat Apr 11 21:53:14 +0000 2020</td>\n",
       "    </tr>\n",
       "    <tr>\n",
       "      <th>7</th>\n",
       "      <td>1249086491768377352</td>\n",
       "      <td>My stomach hurts</td>\n",
       "      <td>2161</td>\n",
       "      <td>35</td>\n",
       "      <td>Sat Apr 11 21:26:41 +0000 2020</td>\n",
       "    </tr>\n",
       "    <tr>\n",
       "      <th>8</th>\n",
       "      <td>1249077629136887808</td>\n",
       "      <td>RT @UGotItJobin: @BarstoolBigCat I didn’t choo...</td>\n",
       "      <td>0</td>\n",
       "      <td>2</td>\n",
       "      <td>Sat Apr 11 20:51:28 +0000 2020</td>\n",
       "    </tr>\n",
       "    <tr>\n",
       "      <th>9</th>\n",
       "      <td>1249076612714422272</td>\n",
       "      <td>Tonight - 7:30 pm est\\n\\nFlorida State @ Syrac...</td>\n",
       "      <td>1527</td>\n",
       "      <td>69</td>\n",
       "      <td>Sat Apr 11 20:47:25 +0000 2020</td>\n",
       "    </tr>\n",
       "    <tr>\n",
       "      <th>10</th>\n",
       "      <td>1249076443591725061</td>\n",
       "      <td>TOMMY LOOKING SPRY!  https://t.co/URiPMwMJxr</td>\n",
       "      <td>1366</td>\n",
       "      <td>67</td>\n",
       "      <td>Sat Apr 11 20:46:45 +0000 2020</td>\n",
       "    </tr>\n",
       "    <tr>\n",
       "      <th>11</th>\n",
       "      <td>1249076353414070273</td>\n",
       "      <td>RT @PMTsportsbiz: Congrats to @BarstoolBigCat ...</td>\n",
       "      <td>0</td>\n",
       "      <td>35</td>\n",
       "      <td>Sat Apr 11 20:46:24 +0000 2020</td>\n",
       "    </tr>\n",
       "    <tr>\n",
       "      <th>12</th>\n",
       "      <td>1249075984105603072</td>\n",
       "      <td>RT @owenloveslamp: @BarstoolBigCat https://t.c...</td>\n",
       "      <td>0</td>\n",
       "      <td>5</td>\n",
       "      <td>Sat Apr 11 20:44:55 +0000 2020</td>\n",
       "    </tr>\n",
       "    <tr>\n",
       "      <th>13</th>\n",
       "      <td>1249074945990307846</td>\n",
       "      <td>How about that “God Bless our Jockeys” call af...</td>\n",
       "      <td>910</td>\n",
       "      <td>16</td>\n",
       "      <td>Sat Apr 11 20:40:48 +0000 2020</td>\n",
       "    </tr>\n",
       "    <tr>\n",
       "      <th>14</th>\n",
       "      <td>1249074367721545728</td>\n",
       "      <td>Thanks everyone for following. For 2 million I...</td>\n",
       "      <td>2256</td>\n",
       "      <td>21</td>\n",
       "      <td>Sat Apr 11 20:38:30 +0000 2020</td>\n",
       "    </tr>\n",
       "    <tr>\n",
       "      <th>15</th>\n",
       "      <td>1249071747032403968</td>\n",
       "      <td>1 million followers ice cream  https://t.co/1k...</td>\n",
       "      <td>4612</td>\n",
       "      <td>178</td>\n",
       "      <td>Sat Apr 11 20:28:05 +0000 2020</td>\n",
       "    </tr>\n",
       "    <tr>\n",
       "      <th>16</th>\n",
       "      <td>1249070061228351492</td>\n",
       "      <td>In classic form I jinxed it and lost followers...</td>\n",
       "      <td>4212</td>\n",
       "      <td>20</td>\n",
       "      <td>Sat Apr 11 20:21:23 +0000 2020</td>\n",
       "    </tr>\n",
       "    <tr>\n",
       "      <th>17</th>\n",
       "      <td>1249069043568521216</td>\n",
       "      <td>100 followers away from the Milly club. Taking...</td>\n",
       "      <td>5431</td>\n",
       "      <td>109</td>\n",
       "      <td>Sat Apr 11 20:17:21 +0000 2020</td>\n",
       "    </tr>\n",
       "    <tr>\n",
       "      <th>18</th>\n",
       "      <td>1249056591824945158</td>\n",
       "      <td>RT @BlackJackBurner: We're LIVE for Racing acr...</td>\n",
       "      <td>0</td>\n",
       "      <td>12</td>\n",
       "      <td>Sat Apr 11 19:27:52 +0000 2020</td>\n",
       "    </tr>\n",
       "  </tbody>\n",
       "</table>\n",
       "</div>"
      ],
      "text/plain": [
       "               tweet_id                                               text  \\\n",
       "0   1249118008242515976  FSU @ Syracuse \\n\\n#DugsNation \\n\\nLive Now —&...   \n",
       "1   1249114471441879042                                 Is twitter broken?   \n",
       "2   1249112744332128258  RT @3msmith: @BarstoolBigCat Kenny by a nose. ...   \n",
       "3   1249111841898258435  Disaster tonight. Some nights the track owns y...   \n",
       "4   1249110877409652736  Here’s the periscope. Cat Cave Derby. I don’t ...   \n",
       "5   1249110503936290819  IM LIVE ON PERISCOPE SOMEONE SEND ME THE LINK ...   \n",
       "6   1249093174473232386  Lanes for tonight’s #CatCaveDerby \\n\\n1. Kenny...   \n",
       "7   1249086491768377352                                   My stomach hurts   \n",
       "8   1249077629136887808  RT @UGotItJobin: @BarstoolBigCat I didn’t choo...   \n",
       "9   1249076612714422272  Tonight - 7:30 pm est\\n\\nFlorida State @ Syrac...   \n",
       "10  1249076443591725061       TOMMY LOOKING SPRY!  https://t.co/URiPMwMJxr   \n",
       "11  1249076353414070273  RT @PMTsportsbiz: Congrats to @BarstoolBigCat ...   \n",
       "12  1249075984105603072  RT @owenloveslamp: @BarstoolBigCat https://t.c...   \n",
       "13  1249074945990307846  How about that “God Bless our Jockeys” call af...   \n",
       "14  1249074367721545728  Thanks everyone for following. For 2 million I...   \n",
       "15  1249071747032403968  1 million followers ice cream  https://t.co/1k...   \n",
       "16  1249070061228351492  In classic form I jinxed it and lost followers...   \n",
       "17  1249069043568521216  100 followers away from the Milly club. Taking...   \n",
       "18  1249056591824945158  RT @BlackJackBurner: We're LIVE for Racing acr...   \n",
       "\n",
       "    favorite_count  retweet_count                      created_at  \n",
       "0                8              0  Sat Apr 11 23:31:55 +0000 2020  \n",
       "1              813             21  Sat Apr 11 23:17:52 +0000 2020  \n",
       "2                0              1  Sat Apr 11 23:11:00 +0000 2020  \n",
       "3              145              1  Sat Apr 11 23:07:25 +0000 2020  \n",
       "4              190             15  Sat Apr 11 23:03:35 +0000 2020  \n",
       "5              166              0  Sat Apr 11 23:02:06 +0000 2020  \n",
       "6              941             23  Sat Apr 11 21:53:14 +0000 2020  \n",
       "7             2161             35  Sat Apr 11 21:26:41 +0000 2020  \n",
       "8                0              2  Sat Apr 11 20:51:28 +0000 2020  \n",
       "9             1527             69  Sat Apr 11 20:47:25 +0000 2020  \n",
       "10            1366             67  Sat Apr 11 20:46:45 +0000 2020  \n",
       "11               0             35  Sat Apr 11 20:46:24 +0000 2020  \n",
       "12               0              5  Sat Apr 11 20:44:55 +0000 2020  \n",
       "13             910             16  Sat Apr 11 20:40:48 +0000 2020  \n",
       "14            2256             21  Sat Apr 11 20:38:30 +0000 2020  \n",
       "15            4612            178  Sat Apr 11 20:28:05 +0000 2020  \n",
       "16            4212             20  Sat Apr 11 20:21:23 +0000 2020  \n",
       "17            5431            109  Sat Apr 11 20:17:21 +0000 2020  \n",
       "18               0             12  Sat Apr 11 19:27:52 +0000 2020  "
      ]
     },
     "execution_count": 7,
     "metadata": {},
     "output_type": "execute_result"
    }
   ],
   "source": [
    "tweet_json"
   ]
  },
  {
   "cell_type": "code",
   "execution_count": 36,
   "metadata": {},
   "outputs": [],
   "source": [
    "# Saving tweets to csv\n",
    "# tweet_json.to_csv(\"tweetdf.csv\", index=False)"
   ]
  },
  {
   "cell_type": "markdown",
   "metadata": {},
   "source": [
    "#### Connecting to Mongo\n",
    "- Connecting to MongoClient\n",
    "- Writing DataFrame to Collection(Tweets), in the 'Twitter' Database"
   ]
  },
  {
   "cell_type": "code",
   "execution_count": 38,
   "metadata": {},
   "outputs": [],
   "source": [
    "# Making a Connection with MongoClient\n",
    "client = MongoClient(\"mongodb://localhost:27017/\")\n",
    "# database\n",
    "db = client[\"Twitter\"]\n",
    "# collection\n",
    "tweets = db[\"Tweets\"]"
   ]
  },
  {
   "cell_type": "code",
   "execution_count": 47,
   "metadata": {},
   "outputs": [
    {
     "data": {
      "text/plain": [
       "<pymongo.results.InsertManyResult at 0x11611e508>"
      ]
     },
     "execution_count": 47,
     "metadata": {},
     "output_type": "execute_result"
    }
   ],
   "source": [
    "tweets.insert_many(tweet_json.to_dict(\"records\"))"
   ]
  }
 ],
 "metadata": {
  "kernelspec": {
   "display_name": "Python 3",
   "language": "python",
   "name": "python3"
  },
  "language_info": {
   "codemirror_mode": {
    "name": "ipython",
    "version": 3
   },
   "file_extension": ".py",
   "mimetype": "text/x-python",
   "name": "python",
   "nbconvert_exporter": "python",
   "pygments_lexer": "ipython3",
   "version": "3.7.3"
  }
 },
 "nbformat": 4,
 "nbformat_minor": 4
}